{
 "cells": [
  {
   "cell_type": "code",
   "execution_count": 1,
   "metadata": {},
   "outputs": [],
   "source": [
    "import pandas as pd\n",
    "import numpy as np\n",
    "import matplotlib.pyplot as plt"
   ]
  },
  {
   "cell_type": "code",
   "execution_count": 2,
   "metadata": {},
   "outputs": [],
   "source": [
    "data = pd.read_csv(\"model.csv\")\n"
   ]
  },
  {
   "cell_type": "code",
   "execution_count": 3,
   "metadata": {},
   "outputs": [
    {
     "name": "stdout",
     "output_type": "stream",
     "text": [
      "Data Head\n",
      "                                               Review    Label\n",
      "0  may sound noisi initi find good place bar nois...  Postive\n",
      "1  good burger atmospher uniqu expect hard rock m...  Postive\n",
      "2  pre arrang breakfast peopl open us normal open...  Postive\n",
      "3  nice decor share platter crumb chicken spring ...  Postive\n",
      "4  great hard rock never bad countri favourit far...  Postive\n"
     ]
    }
   ],
   "source": [
    "print(\"Data Head\\n\",data.head())"
   ]
  },
  {
   "cell_type": "code",
   "execution_count": 4,
   "metadata": {},
   "outputs": [
    {
     "name": "stdout",
     "output_type": "stream",
     "text": [
      "Data Describe\n",
      "                                                    Review    Label\n",
      "count                                                3062     3062\n",
      "unique                                               1543        3\n",
      "top     visit son whilst break birthday price reason c...  Postive\n",
      "freq                                                    3     2742\n"
     ]
    }
   ],
   "source": [
    "print(\"Data Describe\\n\", data.describe())"
   ]
  },
  {
   "cell_type": "code",
   "execution_count": 5,
   "metadata": {},
   "outputs": [
    {
     "name": "stdout",
     "output_type": "stream",
     "text": [
      "Data Shape\n",
      " (3062, 2)\n"
     ]
    }
   ],
   "source": [
    "print(\"Data Shape\\n\",data.shape)"
   ]
  },
  {
   "cell_type": "code",
   "execution_count": 6,
   "metadata": {},
   "outputs": [
    {
     "name": "stdout",
     "output_type": "stream",
     "text": [
      "Data Label Count\n",
      "\n",
      " Postive     2742\n",
      "Negative     173\n",
      "Neutral      147\n",
      "Name: Label, dtype: int64\n"
     ]
    }
   ],
   "source": [
    "print(\"Data Label Count\\n\\n\", data[\"Label\"].value_counts())"
   ]
  },
  {
   "cell_type": "code",
   "execution_count": 7,
   "metadata": {},
   "outputs": [
    {
     "data": {
      "image/png": "[encoded data removed]",
      "text/plain": [
       "<Figure size 432x288 with 1 Axes>"
      ]
     },
     "metadata": {
      "needs_background": "light"
     },
     "output_type": "display_data"
    }
   ],
   "source": [
    "plt.hist(data.Label)\n",
    "plt.title(\"LABEL\")\n",
    "plt.show()"
   ]
  },
  {
   "cell_type": "code",
   "execution_count": 8,
   "metadata": {},
   "outputs": [],
   "source": [
    "from sklearn.feature_extraction.text import CountVectorizer"
   ]
  },
  {
   "cell_type": "code",
   "execution_count": 9,
   "metadata": {},
   "outputs": [],
   "source": [
    "count_vect = CountVectorizer(max_features = 3000)\n",
    "x = count_vect.fit_transform(data['Review']).toarray()"
   ]
  },
  {
   "cell_type": "code",
   "execution_count": 10,
   "metadata": {},
   "outputs": [
    {
     "data": {
      "text/plain": [
       "(3062, 2424)"
      ]
     },
     "execution_count": 10,
     "metadata": {},
     "output_type": "execute_result"
    }
   ],
   "source": [
    "x.shape"
   ]
  },
  {
   "cell_type": "code",
   "execution_count": 11,
   "metadata": {},
   "outputs": [
    {
     "name": "stdout",
     "output_type": "stream",
     "text": [
      "Requirement already up-to-date: imblearn in c:\\users\\hp\\appdata\\roaming\\python\\python37\\site-packages (0.0)\n",
      "Requirement already satisfied, skipping upgrade: imbalanced-learn in c:\\users\\hp\\appdata\\roaming\\python\\python37\\site-packages (from imblearn) (0.7.0)\n",
      "Requirement already satisfied, skipping upgrade: scipy>=0.19.1 in c:\\users\\hp\\python\\python37\\lib\\site-packages (from imbalanced-learn->imblearn) (1.4.1)\n",
      "Requirement already satisfied, skipping upgrade: numpy>=1.13.3 in c:\\users\\hp\\python\\python37\\lib\\site-packages (from imbalanced-learn->imblearn) (1.18.1)\n",
      "Requirement already satisfied, skipping upgrade: scikit-learn>=0.23 in c:\\users\\hp\\python\\python37\\lib\\site-packages (from imbalanced-learn->imblearn) (0.23.2)\n",
      "Requirement already satisfied, skipping upgrade: joblib>=0.11 in c:\\users\\hp\\python\\python37\\lib\\site-packages (from imbalanced-learn->imblearn) (0.16.0)\n",
      "Requirement already satisfied, skipping upgrade: threadpoolctl>=2.0.0 in c:\\users\\hp\\python\\python37\\lib\\site-packages (from scikit-learn>=0.23->imbalanced-learn->imblearn) (2.1.0)\n",
      "Note: you may need to restart the kernel to use updated packages.\n"
     ]
    },
    {
     "name": "stderr",
     "output_type": "stream",
     "text": [
      "WARNING: You are using pip version 20.2.2; however, version 20.3.3 is available.\n",
      "You should consider upgrading via the 'c:\\users\\hp\\python\\python37\\python.exe -m pip install --upgrade pip' command.\n"
     ]
    }
   ],
   "source": [
    "pip install --user -U imblearn"
   ]
  },
  {
   "cell_type": "code",
   "execution_count": 12,
   "metadata": {},
   "outputs": [],
   "source": [
    "from imblearn.over_sampling import SMOTE"
   ]
  },
  {
   "cell_type": "code",
   "execution_count": 13,
   "metadata": {},
   "outputs": [],
   "source": [
    "over_sample = SMOTE(random_state = 100, sampling_strategy = \"all\")"
   ]
  },
  {
   "cell_type": "code",
   "execution_count": 14,
   "metadata": {},
   "outputs": [],
   "source": [
    "data_oversample,y_label = over_sample.fit_sample(x,data['Label'])"
   ]
  },
  {
   "cell_type": "code",
   "execution_count": 15,
   "metadata": {},
   "outputs": [
    {
     "data": {
      "text/plain": [
       "Negative    2742\n",
       "Neutral     2742\n",
       "Postive     2742\n",
       "Name: Label, dtype: int64"
      ]
     },
     "execution_count": 15,
     "metadata": {},
     "output_type": "execute_result"
    }
   ],
   "source": [
    "y_label.value_counts()"
   ]
  },
  {
   "cell_type": "code",
   "execution_count": 16,
   "metadata": {},
   "outputs": [
    {
     "data": {
      "text/plain": [
       "(8226, 2424)"
      ]
     },
     "execution_count": 16,
     "metadata": {},
     "output_type": "execute_result"
    }
   ],
   "source": [
    "data_oversample.shape"
   ]
  },
  {
   "cell_type": "markdown",
   "metadata": {},
   "source": [
    "###### There is a data imbalance "
   ]
  },
  {
   "cell_type": "code",
   "execution_count": 17,
   "metadata": {},
   "outputs": [],
   "source": [
    "from sklearn.model_selection import train_test_split"
   ]
  },
  {
   "cell_type": "code",
   "execution_count": 18,
   "metadata": {},
   "outputs": [],
   "source": [
    "x_train,x_test,y_train,y_test = train_test_split(data_oversample,y_label, test_size = 0.3, random_state = 42)\n"
   ]
  },
  {
   "cell_type": "code",
   "execution_count": 19,
   "metadata": {},
   "outputs": [
    {
     "name": "stdout",
     "output_type": "stream",
     "text": [
      "(5758, 2424) (5758,)\n",
      "(2468, 2424) (2468,)\n"
     ]
    }
   ],
   "source": [
    "print(x_train.shape,y_train.shape)\n",
    "print(x_test.shape, y_test.shape)"
   ]
  },
  {
   "cell_type": "code",
   "execution_count": 20,
   "metadata": {},
   "outputs": [
    {
     "data": {
      "image/png": "[encoded data removed]",
      "text/plain": [
       "<Figure size 432x288 with 1 Axes>"
      ]
     },
     "metadata": {
      "needs_background": "light"
     },
     "output_type": "display_data"
    }
   ],
   "source": [
    "colors = ['lime'] \n",
    "  \n",
    "plt.hist(y_train, \n",
    "         density = True,  \n",
    "         histtype ='barstacked', \n",
    "         color = colors)  \n",
    "  \n",
    "plt.title('balanced Data\\n\\n', \n",
    "          fontweight =\"bold\") \n",
    "  \n",
    "plt.show() "
   ]
  },
  {
   "cell_type": "markdown",
   "metadata": {},
   "source": [
    "# Ensemble \n",
    "\n",
    "\n",
    "#### Random_Forest_bagging"
   ]
  },
  {
   "cell_type": "code",
   "execution_count": 21,
   "metadata": {},
   "outputs": [],
   "source": [
    "from sklearn.ensemble import RandomForestClassifier\n",
    "from sklearn.metrics import accuracy_score,recall_score,classification_report, confusion_matrix"
   ]
  },
  {
   "cell_type": "code",
   "execution_count": 22,
   "metadata": {},
   "outputs": [
    {
     "data": {
      "text/plain": [
       "RandomForestClassifier(n_estimators=120, n_jobs=-1, random_state=50)"
      ]
     },
     "execution_count": 22,
     "metadata": {},
     "output_type": "execute_result"
    }
   ],
   "source": [
    "RF = RandomForestClassifier(n_estimators = 120,\n",
    "                           random_state = 50,\n",
    "                           n_jobs = -1,\n",
    "                           max_features = 'auto')\n",
    "RF.fit(x_train,y_train)"
   ]
  },
  {
   "cell_type": "code",
   "execution_count": 23,
   "metadata": {},
   "outputs": [],
   "source": [
    "rf_pred = RF.predict(x_test)"
   ]
  },
  {
   "cell_type": "code",
   "execution_count": 24,
   "metadata": {},
   "outputs": [
    {
     "name": "stdout",
     "output_type": "stream",
     "text": [
      "Accuracy of Random forest classifier:\n",
      "\n",
      " 0.9809562398703403\n"
     ]
    }
   ],
   "source": [
    "print(\"Accuracy of Random forest classifier:\\n\\n\", accuracy_score(y_test,rf_pred))"
   ]
  },
  {
   "cell_type": "code",
   "execution_count": 25,
   "metadata": {},
   "outputs": [
    {
     "name": "stdout",
     "output_type": "stream",
     "text": [
      "Classification Report:\n",
      "\n",
      "               precision    recall  f1-score   support\n",
      "\n",
      "    Negative       0.98      0.97      0.97       804\n",
      "     Neutral       0.96      0.99      0.98       821\n",
      "     Postive       1.00      0.99      0.99       843\n",
      "\n",
      "    accuracy                           0.98      2468\n",
      "   macro avg       0.98      0.98      0.98      2468\n",
      "weighted avg       0.98      0.98      0.98      2468\n",
      "\n"
     ]
    }
   ],
   "source": [
    "print(\"Classification Report:\\n\\n\", classification_report(y_test,rf_pred))"
   ]
  },
  {
   "cell_type": "code",
   "execution_count": 26,
   "metadata": {},
   "outputs": [
    {
     "name": "stdout",
     "output_type": "stream",
     "text": [
      "Confusion Matrix \n",
      "\n",
      " [[776  28   0]\n",
      " [  7 814   0]\n",
      " [  6   6 831]]\n"
     ]
    }
   ],
   "source": [
    "print(\"Confusion Matrix \\n\\n\", confusion_matrix(y_test,rf_pred))"
   ]
  },
  {
   "cell_type": "markdown",
   "metadata": {},
   "source": [
    "# MultiNomial Naive Bayes"
   ]
  },
  {
   "cell_type": "code",
   "execution_count": 27,
   "metadata": {},
   "outputs": [],
   "source": [
    "from sklearn.naive_bayes import MultinomialNB"
   ]
  },
  {
   "cell_type": "code",
   "execution_count": 28,
   "metadata": {},
   "outputs": [
    {
     "data": {
      "text/plain": [
       "MultinomialNB()"
      ]
     },
     "execution_count": 28,
     "metadata": {},
     "output_type": "execute_result"
    }
   ],
   "source": [
    "mn = MultinomialNB()\n",
    "mn.fit(x_train, y_train)"
   ]
  },
  {
   "cell_type": "code",
   "execution_count": 29,
   "metadata": {},
   "outputs": [],
   "source": [
    "mn_pred = mn.predict(x_test)"
   ]
  },
  {
   "cell_type": "code",
   "execution_count": 30,
   "metadata": {},
   "outputs": [
    {
     "name": "stdout",
     "output_type": "stream",
     "text": [
      "Accuracy of Multinomial Naive Bayes\n",
      "\n",
      "\n",
      " 0.8379254457050244\n"
     ]
    }
   ],
   "source": [
    "print(\"Accuracy of Multinomial Naive Bayes\\n\\n\\n\", accuracy_score(y_test,mn_pred))"
   ]
  },
  {
   "cell_type": "code",
   "execution_count": 31,
   "metadata": {},
   "outputs": [
    {
     "name": "stdout",
     "output_type": "stream",
     "text": [
      "Classification Report \n",
      "\n",
      "\n",
      "               precision    recall  f1-score   support\n",
      "\n",
      "    Negative       0.74      0.85      0.79       804\n",
      "     Neutral       0.85      0.71      0.78       821\n",
      "     Postive       0.93      0.95      0.94       843\n",
      "\n",
      "    accuracy                           0.84      2468\n",
      "   macro avg       0.84      0.84      0.84      2468\n",
      "weighted avg       0.84      0.84      0.84      2468\n",
      "\n"
     ]
    }
   ],
   "source": [
    "print(\"Classification Report \\n\\n\\n\", classification_report(y_test,mn_pred))"
   ]
  },
  {
   "cell_type": "code",
   "execution_count": 32,
   "metadata": {},
   "outputs": [
    {
     "name": "stdout",
     "output_type": "stream",
     "text": [
      "confusion matrix:\n",
      "\n",
      "\n",
      " [[682  81  41]\n",
      " [218 585  18]\n",
      " [ 20  22 801]]\n"
     ]
    }
   ],
   "source": [
    "print(\"confusion matrix:\\n\\n\\n\", confusion_matrix(y_test,mn_pred))"
   ]
  },
  {
   "cell_type": "markdown",
   "metadata": {},
   "source": [
    "# Stochastic Gradient Descent \n",
    "\n",
    "\n",
    "##### Stochastic Gradient Descent (SGD) is a simple yet very efficient approach to fitting linear classifiers and regressors under convex loss functions such as (linear) Support Vector Machines and Logistic Regression. Even though SGD has been around in the machine learning community for a long time, it has received a considerable amount of attention just recently in the context of large-scale learning."
   ]
  },
  {
   "cell_type": "code",
   "execution_count": 37,
   "metadata": {},
   "outputs": [],
   "source": [
    "from sklearn.linear_model import SGDClassifier"
   ]
  },
  {
   "cell_type": "code",
   "execution_count": 38,
   "metadata": {},
   "outputs": [],
   "source": [
    "sgd = SGDClassifier(alpha = 0.00047, random_state = 50)"
   ]
  },
  {
   "cell_type": "code",
   "execution_count": 39,
   "metadata": {},
   "outputs": [],
   "source": [
    "sgd.fit(x_train, y_train)\n",
    "sgd_pred = sgd.predict(x_test)"
   ]
  },
  {
   "cell_type": "code",
   "execution_count": 40,
   "metadata": {},
   "outputs": [
    {
     "name": "stdout",
     "output_type": "stream",
     "text": [
      "Accuracy of SGD:\n",
      "\n",
      " 0.9448946515397083\n"
     ]
    }
   ],
   "source": [
    "\n",
    "print(\"Accuracy of SGD:\\n\\n\", accuracy_score(y_test,sgd_pred))"
   ]
  },
  {
   "cell_type": "code",
   "execution_count": 41,
   "metadata": {},
   "outputs": [
    {
     "name": "stdout",
     "output_type": "stream",
     "text": [
      "classification report of SGD\n",
      "\n",
      "               precision    recall  f1-score   support\n",
      "\n",
      "    Negative       0.96      0.89      0.93       804\n",
      "     Neutral       0.89      0.97      0.93       821\n",
      "     Postive       0.99      0.97      0.98       843\n",
      "\n",
      "    accuracy                           0.94      2468\n",
      "   macro avg       0.95      0.94      0.94      2468\n",
      "weighted avg       0.95      0.94      0.95      2468\n",
      "\n"
     ]
    }
   ],
   "source": [
    "print(\"classification report of SGD\\n\\n\", classification_report(y_test,sgd_pred))"
   ]
  },
  {
   "cell_type": "code",
   "execution_count": 42,
   "metadata": {},
   "outputs": [
    {
     "name": "stdout",
     "output_type": "stream",
     "text": [
      "Confusion matrix sgd:\n",
      "\n",
      " [[716  84   4]\n",
      " [ 18 799   4]\n",
      " [ 10  16 817]]\n"
     ]
    }
   ],
   "source": [
    "print(\"Confusion matrix sgd:\\n\\n\", confusion_matrix(y_test,sgd_pred))"
   ]
  },
  {
   "cell_type": "markdown",
   "metadata": {},
   "source": [
    "# Logistic Regression"
   ]
  },
  {
   "cell_type": "code",
   "execution_count": 43,
   "metadata": {},
   "outputs": [],
   "source": [
    "from sklearn.linear_model import LogisticRegression"
   ]
  },
  {
   "cell_type": "code",
   "execution_count": 44,
   "metadata": {},
   "outputs": [
    {
     "data": {
      "text/plain": [
       "LogisticRegression(max_iter=1000, multi_class='ovr', random_state=42,\n",
       "                   solver='liblinear')"
      ]
     },
     "execution_count": 44,
     "metadata": {},
     "output_type": "execute_result"
    }
   ],
   "source": [
    "LR = LogisticRegression(solver = 'liblinear',\n",
    "                       multi_class = 'ovr',\n",
    "                       max_iter = 1000,\n",
    "                       random_state = 42,\n",
    "                       penalty =\"l2\")\n",
    "LR.fit(x_train,y_train)"
   ]
  },
  {
   "cell_type": "code",
   "execution_count": 45,
   "metadata": {},
   "outputs": [],
   "source": [
    "LR_pred = LR.predict(x_test)"
   ]
  },
  {
   "cell_type": "code",
   "execution_count": 46,
   "metadata": {
    "scrolled": false
   },
   "outputs": [
    {
     "name": "stdout",
     "output_type": "stream",
     "text": [
      "Accuracy of Logistic Regression\n",
      "\n",
      " 0.9529983792544571\n"
     ]
    }
   ],
   "source": [
    "print(\"Accuracy of Logistic Regression\\n\\n\", accuracy_score(y_test,LR_pred))"
   ]
  },
  {
   "cell_type": "code",
   "execution_count": 47,
   "metadata": {},
   "outputs": [
    {
     "name": "stdout",
     "output_type": "stream",
     "text": [
      "Classification of Logistic Regression\n",
      "\n",
      "               precision    recall  f1-score   support\n",
      "\n",
      "    Negative       0.97      0.91      0.94       804\n",
      "     Neutral       0.90      0.98      0.94       821\n",
      "     Postive       1.00      0.97      0.98       843\n",
      "\n",
      "    accuracy                           0.95      2468\n",
      "   macro avg       0.95      0.95      0.95      2468\n",
      "weighted avg       0.96      0.95      0.95      2468\n",
      "\n"
     ]
    }
   ],
   "source": [
    "print(\"Classification of Logistic Regression\\n\\n\",classification_report(y_test,LR_pred))"
   ]
  },
  {
   "cell_type": "code",
   "execution_count": 48,
   "metadata": {
    "scrolled": true
   },
   "outputs": [
    {
     "name": "stdout",
     "output_type": "stream",
     "text": [
      "Confusion matrix of Logistic Regression\n",
      "\n",
      "\n",
      " [[734  70   0]\n",
      " [ 16 801   4]\n",
      " [  8  18 817]]\n"
     ]
    }
   ],
   "source": [
    "print(\"Confusion matrix of Logistic Regression\\n\\n\\n\",confusion_matrix(y_test,LR_pred))"
   ]
  },
  {
   "cell_type": "markdown",
   "metadata": {},
   "source": [
    "# XGBoost"
   ]
  },
  {
   "cell_type": "code",
   "execution_count": 50,
   "metadata": {},
   "outputs": [
    {
     "name": "stdout",
     "output_type": "stream",
     "text": [
      "Note: you may need to restart the kernel to use updated packages.\n"
     ]
    },
    {
     "name": "stderr",
     "output_type": "stream",
     "text": [
      "WARNING: You are using pip version 20.2.2; however, version 20.3.3 is available.\n",
      "You should consider upgrading via the 'c:\\users\\hp\\python\\python37\\python.exe -m pip install --upgrade pip' command.\n"
     ]
    },
    {
     "name": "stdout",
     "output_type": "stream",
     "text": [
      "Collecting xgboost\n",
      "  Downloading xgboost-1.3.1-py3-none-win_amd64.whl (95.2 MB)\n",
      "Requirement already satisfied, skipping upgrade: scipy in c:\\users\\hp\\python\\python37\\lib\\site-packages (from xgboost) (1.4.1)\n",
      "Requirement already satisfied, skipping upgrade: numpy in c:\\users\\hp\\python\\python37\\lib\\site-packages (from xgboost) (1.18.1)\n",
      "Installing collected packages: xgboost\n",
      "Successfully installed xgboost-1.3.1\n"
     ]
    }
   ],
   "source": [
    "pip install --user -U xgboost\n"
   ]
  },
  {
   "cell_type": "code",
   "execution_count": 51,
   "metadata": {},
   "outputs": [],
   "source": [
    "\n",
    "\n",
    "import xgboost as xg"
   ]
  },
  {
   "cell_type": "code",
   "execution_count": 52,
   "metadata": {},
   "outputs": [],
   "source": [
    "xgb = xg.XGBClassifier(learning_rate = 0.01,\n",
    "                       colsample_bytree = 0.8,\n",
    "                       subsample = 0.8,\n",
    "                       objective = 'multi:softmax', \n",
    "                       n_estimators = 100, \n",
    "                       reg_alpha = 0.3,\n",
    "                       max_depth = 4, \n",
    "                       gamma = 1,\n",
    "                       num_class = 3)"
   ]
  },
  {
   "cell_type": "code",
   "execution_count": 53,
   "metadata": {},
   "outputs": [
    {
     "name": "stderr",
     "output_type": "stream",
     "text": [
      "C:\\Users\\Hp\\AppData\\Roaming\\Python\\Python37\\site-packages\\xgboost\\sklearn.py:892: UserWarning: The use of label encoder in XGBClassifier is deprecated and will be removed in a future release. To remove this warning, do the following: 1) Pass option use_label_encoder=False when constructing XGBClassifier object; and 2) Encode your labels (y) as integers starting with 0, i.e. 0, 1, 2, ..., [num_class - 1].\n",
      "  warnings.warn(label_encoder_deprecation_msg, UserWarning)\n"
     ]
    },
    {
     "name": "stdout",
     "output_type": "stream",
     "text": [
      "[12:19:08] WARNING: C:/Users/Administrator/workspace/xgboost-win64_release_1.3.0/src/learner.cc:1061: Starting in XGBoost 1.3.0, the default evaluation metric used with the objective 'multi:softprob' was changed from 'merror' to 'mlogloss'. Explicitly set eval_metric if you'd like to restore the old behavior.\n"
     ]
    },
    {
     "data": {
      "text/plain": [
       "XGBClassifier(base_score=0.5, booster='gbtree', colsample_bylevel=1,\n",
       "              colsample_bynode=1, colsample_bytree=0.8, gamma=1, gpu_id=-1,\n",
       "              importance_type='gain', interaction_constraints='',\n",
       "              learning_rate=0.01, max_delta_step=0, max_depth=4,\n",
       "              min_child_weight=1, missing=nan, monotone_constraints='()',\n",
       "              n_estimators=100, n_jobs=4, num_class=3, num_parallel_tree=1,\n",
       "              objective='multi:softprob', random_state=0, reg_alpha=0.3,\n",
       "              reg_lambda=1, scale_pos_weight=None, subsample=0.8,\n",
       "              tree_method='exact', validate_parameters=1, verbosity=None)"
      ]
     },
     "execution_count": 53,
     "metadata": {},
     "output_type": "execute_result"
    }
   ],
   "source": [
    "xgb.fit(x_train , y_train)"
   ]
  },
  {
   "cell_type": "code",
   "execution_count": 54,
   "metadata": {},
   "outputs": [],
   "source": [
    "xgb_pred = xgb.predict(x_test)"
   ]
  },
  {
   "cell_type": "code",
   "execution_count": 57,
   "metadata": {},
   "outputs": [
    {
     "name": "stdout",
     "output_type": "stream",
     "text": [
      "Accuracy of XGB = 0.784035656401945 \n",
      "\n",
      "Classification of XGB\n",
      "\n",
      "               precision    recall  f1-score   support\n",
      "\n",
      "    Negative       0.89      0.58      0.70       804\n",
      "     Neutral       0.65      0.93      0.76       821\n",
      "     Postive       0.92      0.83      0.88       843\n",
      "\n",
      "    accuracy                           0.78      2468\n",
      "   macro avg       0.82      0.78      0.78      2468\n",
      "weighted avg       0.82      0.78      0.78      2468\n",
      " \n",
      "\n",
      "Confusion matrix of XGB\n",
      "\n",
      "\n",
      " [[469 321  14]\n",
      " [ 14 763  44]\n",
      " [ 45  95 703]]\n"
     ]
    }
   ],
   "source": [
    "print(\"Accuracy of XGB =\", accuracy_score(y_test,xgb_pred),\"\\n\")\n",
    "print(\"Classification of XGB\\n\\n\",classification_report(y_test,xgb_pred),\"\\n\")\n",
    "print(\"Confusion matrix of XGB\\n\\n\\n\",confusion_matrix(y_test,xgb_pred))"
   ]
  },
  {
   "cell_type": "code",
   "execution_count": 58,
   "metadata": {},
   "outputs": [],
   "source": [
    "from sklearn.multiclass import OneVsRestClassifier\n",
    "from sklearn.ensemble import  AdaBoostClassifier"
   ]
  },
  {
   "cell_type": "code",
   "execution_count": 59,
   "metadata": {},
   "outputs": [],
   "source": [
    "ada_model = OneVsRestClassifier(AdaBoostClassifier())"
   ]
  },
  {
   "cell_type": "code",
   "execution_count": 60,
   "metadata": {},
   "outputs": [
    {
     "data": {
      "text/plain": [
       "OneVsRestClassifier(estimator=AdaBoostClassifier())"
      ]
     },
     "execution_count": 60,
     "metadata": {},
     "output_type": "execute_result"
    }
   ],
   "source": [
    "ada_model.fit(x_train,y_train)"
   ]
  },
  {
   "cell_type": "code",
   "execution_count": 61,
   "metadata": {},
   "outputs": [],
   "source": [
    "ada_pred = ada_model.predict(x_test)"
   ]
  },
  {
   "cell_type": "code",
   "execution_count": 64,
   "metadata": {},
   "outputs": [
    {
     "name": "stdout",
     "output_type": "stream",
     "text": [
      "Accuracy of ada = 0.8642625607779578 \n",
      "\n",
      "Classification of ada\n",
      "\n",
      "               precision    recall  f1-score   support\n",
      "\n",
      "    Negative       0.92      0.74      0.82       804\n",
      "     Neutral       0.77      0.93      0.84       821\n",
      "     Postive       0.94      0.92      0.93       843\n",
      "\n",
      "    accuracy                           0.86      2468\n",
      "   macro avg       0.87      0.86      0.86      2468\n",
      "weighted avg       0.87      0.86      0.86      2468\n",
      " \n",
      "\n",
      "Confusion matrix of ada\n",
      "\n",
      "\n",
      " [[592 189  23]\n",
      " [ 27 764  30]\n",
      " [ 25  41 777]]\n"
     ]
    }
   ],
   "source": [
    "print(\"Accuracy of ada =\", accuracy_score(y_test,ada_pred),\"\\n\")\n",
    "print(\"Classification of ada\\n\\n\",classification_report(y_test,ada_pred),\"\\n\")\n",
    "print(\"Confusion matrix of ada\\n\\n\\n\",confusion_matrix(y_test,ada_pred))"
   ]
  },
  {
   "cell_type": "code",
   "execution_count": 64,
   "metadata": {},
   "outputs": [
    {
     "name": "stderr",
     "output_type": "stream",
     "text": [
      "C:\\Users\\Hp\\AppData\\Roaming\\Python\\Python37\\site-packages\\xgboost\\sklearn.py:892: UserWarning: The use of label encoder in XGBClassifier is deprecated and will be removed in a future release. To remove this warning, do the following: 1) Pass option use_label_encoder=False when constructing XGBClassifier object; and 2) Encode your labels (y) as integers starting with 0, i.e. 0, 1, 2, ..., [num_class - 1].\n",
      "  warnings.warn(label_encoder_deprecation_msg, UserWarning)\n"
     ]
    },
    {
     "name": "stdout",
     "output_type": "stream",
     "text": [
      "[12:23:47] WARNING: C:/Users/Administrator/workspace/xgboost-win64_release_1.3.0/src/learner.cc:1061: Starting in XGBoost 1.3.0, the default evaluation metric used with the objective 'binary:logistic' was changed from 'error' to 'logloss'. Explicitly set eval_metric if you'd like to restore the old behavior.\n",
      "[12:24:42] WARNING: C:/Users/Administrator/workspace/xgboost-win64_release_1.3.0/src/learner.cc:1061: Starting in XGBoost 1.3.0, the default evaluation metric used with the objective 'binary:logistic' was changed from 'error' to 'logloss'. Explicitly set eval_metric if you'd like to restore the old behavior.\n",
      "[12:25:46] WARNING: C:/Users/Administrator/workspace/xgboost-win64_release_1.3.0/src/learner.cc:1061: Starting in XGBoost 1.3.0, the default evaluation metric used with the objective 'binary:logistic' was changed from 'error' to 'logloss'. Explicitly set eval_metric if you'd like to restore the old behavior.\n"
     ]
    },
    {
     "data": {
      "text/plain": [
       "OneVsRestClassifier(estimator=XGBClassifier(base_score=None, booster=None,\n",
       "                                            colsample_bylevel=None,\n",
       "                                            colsample_bynode=None,\n",
       "                                            colsample_bytree=None, gamma=None,\n",
       "                                            gpu_id=None, importance_type='gain',\n",
       "                                            interaction_constraints=None,\n",
       "                                            learning_rate=None,\n",
       "                                            max_delta_step=None, max_depth=None,\n",
       "                                            min_child_weight=None, missing=nan,\n",
       "                                            monotone_constraints=None,\n",
       "                                            n_estimators=100, n_jobs=None,\n",
       "                                            num_parallel_tree=None,\n",
       "                                            random_state=None, reg_alpha=None,\n",
       "                                            reg_lambda=None,\n",
       "                                            scale_pos_weight=None,\n",
       "                                            subsample=None, tree_method=None,\n",
       "                                            validate_parameters=None,\n",
       "                                            verbosity=None))"
      ]
     },
     "execution_count": 64,
     "metadata": {},
     "output_type": "execute_result"
    }
   ],
   "source": [
    "ovr_model = OneVsRestClassifier(xg.XGBClassifier())\n",
    "ovr_model.fit(x_train,y_train)"
   ]
  },
  {
   "cell_type": "code",
   "execution_count": 65,
   "metadata": {},
   "outputs": [],
   "source": [
    "ovr_model_pred = ovr_model.predict(x_test)"
   ]
  },
  {
   "cell_type": "code",
   "execution_count": 66,
   "metadata": {},
   "outputs": [
    {
     "name": "stdout",
     "output_type": "stream",
     "text": [
      "Accuracy of OneVsRestClassifier using xgb= 0.9675850891410048 \n",
      "\n",
      "Classification of  OneVsRestClassifier using xgb\n",
      "\n",
      "               precision    recall  f1-score   support\n",
      "\n",
      "    Negative       0.98      0.93      0.96       804\n",
      "     Neutral       0.93      0.99      0.96       821\n",
      "     Postive       1.00      0.98      0.99       843\n",
      "\n",
      "    accuracy                           0.97      2468\n",
      "   macro avg       0.97      0.97      0.97      2468\n",
      "weighted avg       0.97      0.97      0.97      2468\n",
      " \n",
      "\n",
      "Confusion matrix of  OneVsRestClassifier using xgb\n",
      "\n",
      "\n",
      " [[751  53   0]\n",
      " [  7 814   0]\n",
      " [  9  11 823]]\n"
     ]
    }
   ],
   "source": [
    "print(\"Accuracy of OneVsRestClassifier using xgb=\", accuracy_score(y_test,ovr_model_pred),\"\\n\")\n",
    "print(\"Classification of  OneVsRestClassifier using xgb\\n\\n\",classification_report(y_test,ovr_model_pred),\"\\n\")\n",
    "print(\"Confusion matrix of  OneVsRestClassifier using xgb\\n\\n\\n\",confusion_matrix(y_test,ovr_model_pred))"
   ]
  },
  {
   "cell_type": "markdown",
   "metadata": {},
   "source": [
    "# suport vector classifier"
   ]
  },
  {
   "cell_type": "code",
   "execution_count": 67,
   "metadata": {},
   "outputs": [],
   "source": [
    "from sklearn import svm"
   ]
  },
  {
   "cell_type": "code",
   "execution_count": 68,
   "metadata": {},
   "outputs": [
    {
     "data": {
      "text/plain": [
       "LinearSVC()"
      ]
     },
     "execution_count": 68,
     "metadata": {},
     "output_type": "execute_result"
    }
   ],
   "source": [
    "svm = svm.LinearSVC(multi_class = 'ovr')\n",
    "svm.fit(x_train,y_train)"
   ]
  },
  {
   "cell_type": "code",
   "execution_count": 69,
   "metadata": {},
   "outputs": [],
   "source": [
    "svm_pred = svm.predict(x_test)"
   ]
  },
  {
   "cell_type": "code",
   "execution_count": 70,
   "metadata": {},
   "outputs": [
    {
     "name": "stdout",
     "output_type": "stream",
     "text": [
      "Accuracy of svm= 0.9647487844408428 \n",
      "\n",
      "Classification of  svm\n",
      "\n",
      "               precision    recall  f1-score   support\n",
      "\n",
      "    Negative       0.95      0.96      0.96       804\n",
      "     Neutral       0.94      0.97      0.95       821\n",
      "     Postive       1.00      0.97      0.98       843\n",
      "\n",
      "    accuracy                           0.96      2468\n",
      "   macro avg       0.97      0.96      0.96      2468\n",
      "weighted avg       0.97      0.96      0.96      2468\n",
      " \n",
      "\n",
      "Confusion matrix of svm\n",
      "\n",
      "\n",
      " [[772  32   0]\n",
      " [ 27 794   0]\n",
      " [ 10  18 815]]\n"
     ]
    }
   ],
   "source": [
    "print(\"Accuracy of svm=\", accuracy_score(y_test,svm_pred),\"\\n\")\n",
    "print(\"Classification of  svm\\n\\n\",classification_report(y_test,svm_pred),\"\\n\")\n",
    "print(\"Confusion matrix of svm\\n\\n\\n\",confusion_matrix(y_test,svm_pred))"
   ]
  },
  {
   "cell_type": "markdown",
   "metadata": {},
   "source": [
    "# KNN classification"
   ]
  },
  {
   "cell_type": "code",
   "execution_count": 71,
   "metadata": {},
   "outputs": [],
   "source": [
    "from sklearn.neighbors import KNeighborsClassifier"
   ]
  },
  {
   "cell_type": "code",
   "execution_count": 72,
   "metadata": {},
   "outputs": [
    {
     "data": {
      "text/plain": [
       "KNeighborsClassifier(n_neighbors=3)"
      ]
     },
     "execution_count": 72,
     "metadata": {},
     "output_type": "execute_result"
    }
   ],
   "source": [
    "knn = KNeighborsClassifier(n_neighbors = 3)\n",
    "knn.fit(x_train,y_train)"
   ]
  },
  {
   "cell_type": "code",
   "execution_count": 73,
   "metadata": {},
   "outputs": [],
   "source": [
    "knn_pred = knn.predict(x_test)"
   ]
  },
  {
   "cell_type": "code",
   "execution_count": 76,
   "metadata": {},
   "outputs": [
    {
     "name": "stdout",
     "output_type": "stream",
     "text": [
      "Accuracy of knn= 0.68354943273906 \n",
      "\n",
      "Classification of  knn\n",
      "\n",
      "               precision    recall  f1-score   support\n",
      "\n",
      "    Negative       0.66      0.96      0.78       804\n",
      "     Neutral       0.68      0.99      0.81       821\n",
      "     Postive       1.00      0.12      0.21       843\n",
      "\n",
      "    accuracy                           0.68      2468\n",
      "   macro avg       0.78      0.69      0.60      2468\n",
      "weighted avg       0.78      0.68      0.60      2468\n",
      " \n",
      "\n",
      "Confusion matrix of knn\n",
      "\n",
      "\n",
      " [[773  31   0]\n",
      " [  7 814   0]\n",
      " [389 354 100]]\n"
     ]
    }
   ],
   "source": [
    "print(\"Accuracy of knn=\", accuracy_score(y_test,knn_pred),\"\\n\")\n",
    "print(\"Classification of  knn\\n\\n\",classification_report(y_test,knn_pred),\"\\n\")\n",
    "print(\"Confusion matrix of knn\\n\\n\\n\",confusion_matrix(y_test,knn_pred))"
   ]
  },
  {
   "cell_type": "code",
   "execution_count": 77,
   "metadata": {},
   "outputs": [],
   "source": [
    "from sklearn.linear_model import Perceptron"
   ]
  },
  {
   "cell_type": "code",
   "execution_count": 78,
   "metadata": {},
   "outputs": [
    {
     "data": {
      "text/plain": [
       "Perceptron(alpha=0.0005, penalty='l1')"
      ]
     },
     "execution_count": 78,
     "metadata": {},
     "output_type": "execute_result"
    }
   ],
   "source": [
    "per = Perceptron(penalty = 'l1',\n",
    "                alpha = 0.0005)\n",
    "per.fit(x_train,y_train)"
   ]
  },
  {
   "cell_type": "code",
   "execution_count": 79,
   "metadata": {},
   "outputs": [],
   "source": [
    "per_pred = per.predict(x_test)"
   ]
  },
  {
   "cell_type": "code",
   "execution_count": 80,
   "metadata": {},
   "outputs": [
    {
     "name": "stdout",
     "output_type": "stream",
     "text": [
      "Accuracy of  Perceptron= 0.8877633711507293 \n",
      "\n",
      "Classification of   Perceptron\n",
      "\n",
      "               precision    recall  f1-score   support\n",
      "\n",
      "    Negative       0.91      0.82      0.87       804\n",
      "     Neutral       0.83      0.92      0.87       821\n",
      "     Postive       0.93      0.91      0.92       843\n",
      "\n",
      "    accuracy                           0.89      2468\n",
      "   macro avg       0.89      0.89      0.89      2468\n",
      "weighted avg       0.89      0.89      0.89      2468\n",
      " \n",
      "\n",
      "Confusion matrix of  Perceptron\n",
      "\n",
      "\n",
      " [[663 114  27]\n",
      " [ 32 757  32]\n",
      " [ 31  41 771]]\n"
     ]
    }
   ],
   "source": [
    "print(\"Accuracy of  Perceptron=\", accuracy_score(y_test,per_pred),\"\\n\")\n",
    "print(\"Classification of   Perceptron\\n\\n\",classification_report(y_test,per_pred),\"\\n\")\n",
    "print(\"Confusion matrix of  Perceptron\\n\\n\\n\",confusion_matrix(y_test,per_pred))"
   ]
  },
  {
   "cell_type": "code",
   "execution_count": 80,
   "metadata": {},
   "outputs": [],
   "source": [
    "from sklearn.linear_model import PassiveAggressiveClassifier"
   ]
  },
  {
   "cell_type": "code",
   "execution_count": 81,
   "metadata": {},
   "outputs": [],
   "source": [
    "pac = PassiveAggressiveClassifier(class_weight = 'balanced',\n",
    "                                 C = 0.4)\n",
    "pac.fit(x_train,y_train)\n",
    "pac_pred = pac.predict(x_test)"
   ]
  },
  {
   "cell_type": "code",
   "execution_count": 82,
   "metadata": {
    "scrolled": false
   },
   "outputs": [
    {
     "name": "stdout",
     "output_type": "stream",
     "text": [
      "Accuracy of  PassiveAggressiveClassifier= 0.9521880064829822 \n",
      "\n",
      "Classification of   PassiveAggressiveClassifier\n",
      "\n",
      "               precision    recall  f1-score   support\n",
      "\n",
      "    Negative       0.98      0.90      0.94       804\n",
      "     Neutral       0.89      0.98      0.94       821\n",
      "     Postive       1.00      0.97      0.98       843\n",
      "\n",
      "    accuracy                           0.95      2468\n",
      "   macro avg       0.96      0.95      0.95      2468\n",
      "weighted avg       0.96      0.95      0.95      2468\n",
      " \n",
      "\n",
      "Confusion matrix of  PassiveAggressiveClassifier\n",
      "\n",
      "\n",
      " [[725  77   2]\n",
      " [ 11 808   2]\n",
      " [  6  20 817]]\n"
     ]
    }
   ],
   "source": [
    "print(\"Accuracy of  PassiveAggressiveClassifier=\", accuracy_score(y_test,pac_pred),\"\\n\")\n",
    "print(\"Classification of   PassiveAggressiveClassifier\\n\\n\",classification_report(y_test,pac_pred),\"\\n\")\n",
    "print(\"Confusion matrix of  PassiveAggressiveClassifier\\n\\n\\n\",confusion_matrix(y_test,pac_pred))"
   ]
  },
  {
   "cell_type": "code",
   "execution_count": 83,
   "metadata": {},
   "outputs": [],
   "source": [
    "from sklearn.discriminant_analysis import LinearDiscriminantAnalysis"
   ]
  },
  {
   "cell_type": "code",
   "execution_count": 84,
   "metadata": {},
   "outputs": [
    {
     "data": {
      "text/plain": [
       "LinearDiscriminantAnalysis()"
      ]
     },
     "execution_count": 84,
     "metadata": {},
     "output_type": "execute_result"
    }
   ],
   "source": [
    "lda = LinearDiscriminantAnalysis()\n",
    "lda.fit(x_train,y_train)\n"
   ]
  },
  {
   "cell_type": "code",
   "execution_count": 85,
   "metadata": {},
   "outputs": [],
   "source": [
    "lda_pred = lda.predict(x_test)"
   ]
  },
  {
   "cell_type": "code",
   "execution_count": 86,
   "metadata": {},
   "outputs": [
    {
     "name": "stdout",
     "output_type": "stream",
     "text": [
      "Accuracy of  LinearDiscriminantAnalysi= 0.9100486223662885 \n",
      "\n",
      "Classification of   LinearDiscriminantAnalysi\n",
      "\n",
      "               precision    recall  f1-score   support\n",
      "\n",
      "    Negative       0.92      0.90      0.91       804\n",
      "     Neutral       0.83      0.98      0.90       821\n",
      "     Postive       1.00      0.85      0.92       843\n",
      "\n",
      "    accuracy                           0.91      2468\n",
      "   macro avg       0.92      0.91      0.91      2468\n",
      "weighted avg       0.92      0.91      0.91      2468\n",
      " \n",
      "\n",
      "Confusion matrix of  LinearDiscriminantAnalysi\n",
      "\n",
      "\n",
      " [[720  84   0]\n",
      " [ 14 807   0]\n",
      " [ 48  76 719]]\n"
     ]
    }
   ],
   "source": [
    "print(\"Accuracy of  LinearDiscriminantAnalysi=\", accuracy_score(y_test,lda_pred),\"\\n\")\n",
    "print(\"Classification of   LinearDiscriminantAnalysi\\n\\n\",classification_report(y_test,lda_pred),\"\\n\")\n",
    "print(\"Confusion matrix of  LinearDiscriminantAnalysi\\n\\n\\n\",confusion_matrix(y_test,lda_pred))"
   ]
  },
  {
   "cell_type": "markdown",
   "metadata": {},
   "source": [
    "# RIDGE "
   ]
  },
  {
   "cell_type": "code",
   "execution_count": 87,
   "metadata": {},
   "outputs": [],
   "source": [
    "from sklearn.linear_model import RidgeClassifier"
   ]
  },
  {
   "cell_type": "code",
   "execution_count": 88,
   "metadata": {},
   "outputs": [
    {
     "data": {
      "text/plain": [
       "RidgeClassifier()"
      ]
     },
     "execution_count": 88,
     "metadata": {},
     "output_type": "execute_result"
    }
   ],
   "source": [
    "rc = RidgeClassifier()\n",
    "rc.fit(x_train,y_train)\n"
   ]
  },
  {
   "cell_type": "code",
   "execution_count": 89,
   "metadata": {},
   "outputs": [],
   "source": [
    "rc_pred = rc.predict(x_test)\n"
   ]
  },
  {
   "cell_type": "code",
   "execution_count": 90,
   "metadata": {},
   "outputs": [
    {
     "name": "stdout",
     "output_type": "stream",
     "text": [
      "Accuracy of  ridge= 0.9100486223662885 \n",
      "\n",
      "Classification of   ridge\n",
      "\n",
      "               precision    recall  f1-score   support\n",
      "\n",
      "    Negative       0.92      0.90      0.91       804\n",
      "     Neutral       0.83      0.98      0.90       821\n",
      "     Postive       1.00      0.85      0.92       843\n",
      "\n",
      "    accuracy                           0.91      2468\n",
      "   macro avg       0.92      0.91      0.91      2468\n",
      "weighted avg       0.92      0.91      0.91      2468\n",
      " \n",
      "\n",
      "Confusion matrix of  ridge\n",
      "\n",
      "\n",
      " [[720  84   0]\n",
      " [ 14 807   0]\n",
      " [ 48  76 719]]\n"
     ]
    }
   ],
   "source": [
    "print(\"Accuracy of  ridge=\", accuracy_score(y_test,lda_pred),\"\\n\")\n",
    "print(\"Classification of   ridge\\n\\n\",classification_report(y_test,lda_pred),\"\\n\")\n",
    "print(\"Confusion matrix of  ridge\\n\\n\\n\",confusion_matrix(y_test,lda_pred))"
   ]
  },
  {
   "cell_type": "code",
   "execution_count": 91,
   "metadata": {},
   "outputs": [
    {
     "name": "stdout",
     "output_type": "stream",
     "text": [
      "Accuracy of Random forest classifier= 0.9809562398703403 \n",
      "\n",
      "Accuracy of Multinomial Naive Bayes= 0.8379254457050244 \n",
      "\n",
      "Accuracy of SGD= 0.9448946515397083 \n",
      "\n",
      "Accuracy of Logistic Regression= 0.9529983792544571 \n",
      "\n",
      "Accuracy of svm= 0.9647487844408428 \n",
      "\n",
      "Accuracy of ada = 0.8654781199351702 \n",
      "\n",
      "Accuracy of XGB = 0.784035656401945 \n",
      "\n",
      "Accuracy of OneVsRestClassifier using xgb= 0.9675850891410048 \n",
      "\n",
      "Accuracy of knn= 0.68354943273906 \n",
      "\n",
      "Accuracy of Perceptron= 0.8387358184764991 \n",
      "\n",
      "Accuracy of PassiveAggressiveClassifier= 0.9521880064829822 \n",
      "\n",
      "Accuracy of LinearDiscriminantAnalysi= 0.9100486223662885 \n",
      "\n",
      "Accuracy of ridge= 0.9100486223662885 \n",
      "\n"
     ]
    }
   ],
   "source": [
    "print(\"Accuracy of Random forest classifier=\", accuracy_score(y_test,rf_pred),'\\n')\n",
    "print(\"Accuracy of Multinomial Naive Bayes=\", accuracy_score(y_test,mn_pred),'\\n')\n",
    "print(\"Accuracy of SGD=\", accuracy_score(y_test,sgd_pred),'\\n')\n",
    "print(\"Accuracy of Logistic Regression=\", accuracy_score(y_test,LR_pred),'\\n')\n",
    "print(\"Accuracy of svm=\", accuracy_score(y_test,svm_pred),\"\\n\")\n",
    "print(\"Accuracy of ada =\", accuracy_score(y_test,ada_pred),\"\\n\")\n",
    "print(\"Accuracy of XGB =\", accuracy_score(y_test,xgb_pred),\"\\n\")\n",
    "print(\"Accuracy of OneVsRestClassifier using xgb=\", accuracy_score(y_test,ovr_model_pred),\"\\n\")\n",
    "print(\"Accuracy of knn=\", accuracy_score(y_test,knn_pred),\"\\n\")\n",
    "print(\"Accuracy of Perceptron=\", accuracy_score(y_test,per_pred),\"\\n\")\n",
    "print(\"Accuracy of PassiveAggressiveClassifier=\", accuracy_score(y_test,pac_pred),\"\\n\")\n",
    "print(\"Accuracy of LinearDiscriminantAnalysi=\", accuracy_score(y_test,lda_pred),\"\\n\")\n",
    "print(\"Accuracy of ridge=\", accuracy_score(y_test,lda_pred),\"\\n\")"
   ]
  },
  {
   "cell_type": "markdown",
   "metadata": {},
   "source": [
    "# finally random forest classifier is the best model to deploy"
   ]
  },
  {
   "cell_type": "code",
   "execution_count": null,
   "metadata": {},
   "outputs": [],
   "source": []
  }
 ],
 "metadata": {
  "kernelspec": {
   "display_name": "Python 3",
   "language": "python",
   "name": "python3"
  },
  "language_info": {
   "codemirror_mode": {
    "name": "ipython",
    "version": 3
   },
   "file_extension": ".py",
   "mimetype": "text/x-python",
   "name": "python",
   "nbconvert_exporter": "python",
   "pygments_lexer": "ipython3",
   "version": "3.7.1"
  }
 },
 "nbformat": 4,
 "nbformat_minor": 4
}
